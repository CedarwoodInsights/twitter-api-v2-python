# %% markdown
# #  Twitter Count Recent Main
# %% markdown
# Use the Twitter API v2 Tweet Counts Recent endpoint to count records
# %% markdown
# Note that tags are used in this notebook to mark the lines of code that are made available to other apps such as KNIME.
# %% markdown
# ## Import Modules
# %% codecell
# Standard library import
# Third party imports

# Local imports
import cedarlog
import twitter_data_load

# %% markdown
# ## Set Twitter Endpoint URL
# %% markdown
# Use the Twitter API counts recent endpoint
# %% codecell
my_search_url = "https://api.twitter.com/2/tweets/counts/recent"
# %% markdown
# ## Set Query Parameters
# %% markdown
# Optional params: start_time,end_time,since_id,until_id,next_token,granularity
# %% codecell
my_query_params = {'query': '(wordle) (6)',
                'start_time':'2022-03-14T00:00:00.000Z',
                'end_time':'2022-03-15T00:00:00.000Z',
                'granularity':'hour'
               }
# %% markdown
# ## Set Maximum Number of Request Iterations
# %% markdown
# This is a safety measure in case the number of request iterations needed is excessive (for example, if there will be too many count records returned for the given query).
# %% codecell
my_max_iterations = 50
# %% markdown
# ## Set Log File Title and Folder Location
# %% codecell
my_log_file_title = 'Log_File_Count_Recent' # Sys date and time will be prefixed
my_log_file_location = "log_files" # Relative path
# %% markdown
# ## Main Code
# %% codecell
def main(search_url, query_params, max_iterations, log_file_title, log_file_location):

    # Open log file and store the returned log file parameters (returned as a tuple)
    log_file_params=cedarlog.use_log_file(switch='open', title=log_file_title, location=log_file_location)

    # Get Twitter data
    output = twitter_data_load.load_data(search_url, query_params, max_iterations)

    # Close log file. Grab values for log_file_name and stdout_fileno from the log_file_params tuple
    log = log_file_params # Apply short name
    cedarlog.use_log_file(switch='close', log_file_name=log[0], stdout_fileno=log[1], location=log[2])

    return output
# %% codecell
if __name__ == "__main__":

    main(my_search_url, my_query_params, my_max_iterations, my_log_file_title, my_log_file_location)

# %% codecell
