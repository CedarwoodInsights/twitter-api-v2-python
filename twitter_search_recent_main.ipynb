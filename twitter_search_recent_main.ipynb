{
 "cells": [
  {
   "cell_type": "markdown",
   "metadata": {},
   "source": [
    "#  Twitter Search Recent Main"
   ]
  },
  {
   "cell_type": "markdown",
   "metadata": {},
   "source": [
    "Use the Twitter API v2 Tweet Search Recent endpoint to search for tweets"
   ]
  },
  {
   "cell_type": "markdown",
   "metadata": {},
   "source": [
    "Note that tags are used in this notebook to mark the lines of code that are made available to other apps such as KNIME."
   ]
  },
  {
   "cell_type": "markdown",
   "metadata": {},
   "source": [
    "## Import Modules"
   ]
  },
  {
   "cell_type": "code",
   "execution_count": 1,
   "metadata": {
    "tags": [
     "knime"
    ]
   },
   "outputs": [],
   "source": [
    "# Standard library imports\n",
    "# Third party imports\n",
    "\n",
    "# Local imports\n",
    "import cedarlog\n",
    "import twitter_data_load\n"
   ]
  },
  {
   "cell_type": "markdown",
   "metadata": {},
   "source": [
    "## Set Twitter Endpoint URL"
   ]
  },
  {
   "cell_type": "markdown",
   "metadata": {},
   "source": [
    "Use the Twitter API search recent endpoint"
   ]
  },
  {
   "cell_type": "code",
   "execution_count": 2,
   "metadata": {},
   "outputs": [],
   "source": [
    "my_search_url = \"https://api.twitter.com/2/tweets/search/recent\""
   ]
  },
  {
   "cell_type": "markdown",
   "metadata": {},
   "source": [
    "## Set Query Parameters"
   ]
  },
  {
   "cell_type": "markdown",
   "metadata": {},
   "source": [
    "Optional params: start_time,end_time,since_id,until_id,max_results,next_token, expansions,tweet.fields,media.fields,poll.fields,place.fields,user.fields"
   ]
  },
  {
   "cell_type": "code",
   "execution_count": 3,
   "metadata": {},
   "outputs": [],
   "source": [
    "my_query_params = {'query': '(wordle) (6)','tweet.fields': 'author_id,created_at',\n",
    "                'start_time':'2022-01-30T12:00:00.000Z', 'end_time':'2022-01-30T12:02:00.000Z',\n",
    "               'max_results':'100'}"
   ]
  },
  {
   "cell_type": "markdown",
   "metadata": {},
   "source": [
    "## Set Maximum Number of Request Iterations"
   ]
  },
  {
   "cell_type": "markdown",
   "metadata": {},
   "source": [
    "This is a safety measure in case the number of request iterations needed is excessive (for example, if there will be too many tweet records returned for the given query)."
   ]
  },
  {
   "cell_type": "code",
   "execution_count": 4,
   "metadata": {},
   "outputs": [],
   "source": [
    "my_max_iterations = 10"
   ]
  },
  {
   "cell_type": "markdown",
   "metadata": {},
   "source": [
    "## Set Log File Title and Folder Location"
   ]
  },
  {
   "cell_type": "code",
   "execution_count": 5,
   "metadata": {},
   "outputs": [],
   "source": [
    "my_log_file_title = 'Log_File_Search_Recent' # Sys date and time will be prefixed\n",
    "my_log_file_location = \"log_files\" # Relative path"
   ]
  },
  {
   "cell_type": "markdown",
   "metadata": {},
   "source": [
    "## Main Code"
   ]
  },
  {
   "cell_type": "code",
   "execution_count": 6,
   "metadata": {
    "tags": [
     "knime"
    ]
   },
   "outputs": [],
   "source": [
    "def main(search_url, query_params, max_iterations, log_file_title, log_file_location):\n",
    "    \n",
    "    # Open log file and store the returned log file parameters (returned as a tuple)\n",
    "    log_file_params=cedarlog.use_log_file(switch='open', title=log_file_title, location=log_file_location)\n",
    "    \n",
    "    # Get Twitter data\n",
    "    output = twitter_data_load.load_data(search_url, query_params, max_iterations)\n",
    "    \n",
    "    # Close log file. Grab values for log_file_name and stdout_fileno from the log_file_params tuple\n",
    "    log = log_file_params # Apply short name\n",
    "    cedarlog.use_log_file(switch='close', log_file_name=log[0], stdout_fileno=log[1], location=log[2])\n",
    "    \n",
    "    return output"
   ]
  },
  {
   "cell_type": "code",
   "execution_count": null,
   "metadata": {
    "scrolled": true
   },
   "outputs": [],
   "source": [
    "if __name__ == \"__main__\":\n",
    "    \n",
    "    main(my_search_url, my_query_params, my_max_iterations, my_log_file_title, my_log_file_location)\n",
    "    "
   ]
  }
 ],
 "metadata": {
  "kernelspec": {
   "display_name": "Python 3",
   "language": "python",
   "name": "python3"
  },
  "language_info": {
   "codemirror_mode": {
    "name": "ipython",
    "version": 3
   },
   "file_extension": ".py",
   "mimetype": "text/x-python",
   "name": "python",
   "nbconvert_exporter": "python",
   "pygments_lexer": "ipython3",
   "version": "3.7.3"
  }
 },
 "nbformat": 4,
 "nbformat_minor": 5
}
