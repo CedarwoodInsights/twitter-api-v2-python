{
 "cells": [
  {
   "cell_type": "markdown",
   "metadata": {},
   "source": [
    "#  Twitter Count Recent Main"
   ]
  },
  {
   "cell_type": "markdown",
   "metadata": {},
   "source": [
    "Use the Twitter API v2 Tweet Counts Recent endpoint to count records"
   ]
  },
  {
   "cell_type": "markdown",
   "metadata": {},
   "source": [
    "Note that tags are used in this notebook to mark the lines of code that are made available to other apps such as KNIME."
   ]
  },
  {
   "cell_type": "markdown",
   "metadata": {},
   "source": [
    "## Import Modules"
   ]
  },
  {
   "cell_type": "code",
   "execution_count": 8,
   "metadata": {
    "tags": [
     "knime"
    ]
   },
   "outputs": [],
   "source": [
    "# Standard library import\n",
    "# Third party imports\n",
    "\n",
    "# Local imports\n",
    "import cedarlog\n",
    "import twitter_data_load\n"
   ]
  },
  {
   "cell_type": "markdown",
   "metadata": {},
   "source": [
    "## Set Twitter Endpoint URL"
   ]
  },
  {
   "cell_type": "markdown",
   "metadata": {},
   "source": [
    "Use the Twitter API counts recent endpoint"
   ]
  },
  {
   "cell_type": "code",
   "execution_count": 9,
   "metadata": {},
   "outputs": [],
   "source": [
    "my_search_url = \"https://api.twitter.com/2/tweets/counts/recent\""
   ]
  },
  {
   "cell_type": "markdown",
   "metadata": {},
   "source": [
    "## Set Query Parameters"
   ]
  },
  {
   "cell_type": "markdown",
   "metadata": {},
   "source": [
    "Optional params: start_time,end_time,since_id,until_id,next_token,granularity"
   ]
  },
  {
   "cell_type": "code",
   "execution_count": 10,
   "metadata": {},
   "outputs": [],
   "source": [
    "my_query_params = {'query': '(wordle) (6)',\n",
    "                'start_time':'2022-01-27T00:00:00.000Z', \n",
    "                'end_time':'2022-02-01T00:00:00.000Z',\n",
    "                'granularity':'minute'\n",
    "               }"
   ]
  },
  {
   "cell_type": "markdown",
   "metadata": {},
   "source": [
    "## Set Maximum Number of Request Iterations"
   ]
  },
  {
   "cell_type": "markdown",
   "metadata": {},
   "source": [
    "This is a safety measure in case the number of request iterations needed is excessive (for example, if there will be too many count records returned for the given query)."
   ]
  },
  {
   "cell_type": "code",
   "execution_count": 11,
   "metadata": {},
   "outputs": [],
   "source": [
    "my_max_iterations = 50"
   ]
  },
  {
   "cell_type": "markdown",
   "metadata": {},
   "source": [
    "## Set Log File Title and Folder Location"
   ]
  },
  {
   "cell_type": "code",
   "execution_count": 12,
   "metadata": {},
   "outputs": [],
   "source": [
    "my_log_file_title = 'Log_File_Count_Recent' # Sys date and time will be prefixed\n",
    "my_log_file_location = \"log_files\" # Relative path"
   ]
  },
  {
   "cell_type": "markdown",
   "metadata": {},
   "source": [
    "## Main Code"
   ]
  },
  {
   "cell_type": "code",
   "execution_count": 13,
   "metadata": {
    "tags": [
     "knime"
    ]
   },
   "outputs": [],
   "source": [
    "def main(search_url, query_params, max_iterations, log_file_title, log_file_location):\n",
    "    \n",
    "    # Open log file and store the returned log file parameters (returned as a tuple)\n",
    "    log_file_params=cedarlog.use_log_file(switch='open', title=log_file_title, location=log_file_location)\n",
    "    \n",
    "    # Get Twitter data\n",
    "    output = twitter_data_load.load_data(search_url, query_params, max_iterations)\n",
    "    \n",
    "    # Close log file. Grab values for log_file_name and stdout_fileno from the log_file_params tuple\n",
    "    log = log_file_params # Apply short name\n",
    "    cedarlog.use_log_file(switch='close', log_file_name=log[0], stdout_fileno=log[1], location=log[2])\n",
    "    \n",
    "    return output"
   ]
  },
  {
   "cell_type": "code",
   "execution_count": null,
   "metadata": {
    "scrolled": true
   },
   "outputs": [],
   "source": [
    "if __name__ == \"__main__\":\n",
    "    \n",
    "    main(my_search_url, my_query_params, my_max_iterations, my_log_file_title, my_log_file_location)\n",
    "    "
   ]
  },
  {
   "cell_type": "code",
   "execution_count": null,
   "metadata": {},
   "outputs": [],
   "source": []
  }
 ],
 "metadata": {
  "kernelspec": {
   "display_name": "Python 3",
   "language": "python",
   "name": "python3"
  },
  "language_info": {
   "codemirror_mode": {
    "name": "ipython",
    "version": 3
   },
   "file_extension": ".py",
   "mimetype": "text/x-python",
   "name": "python",
   "nbconvert_exporter": "python",
   "pygments_lexer": "ipython3",
   "version": "3.7.3"
  }
 },
 "nbformat": 4,
 "nbformat_minor": 5
}
